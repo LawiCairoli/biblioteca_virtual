{
 "cells": [
  {
   "cell_type": "code",
   "execution_count": null,
   "metadata": {
    "colab": {
     "base_uri": "https://localhost:8080/"
    },
    "executionInfo": {
     "elapsed": 42909,
     "status": "ok",
     "timestamp": 1743354079642,
     "user": {
      "displayName": "Estanislao Carlos Cairoli",
      "userId": "07075501255002723804"
     },
     "user_tz": 180
    },
    "id": "gYFv0_eeprQN",
    "outputId": "173c9d5d-8dde-46a8-de94-f2a25e6fcb6f"
   },
   "outputs": [],
   "source": [
    "lista_libros = []\n",
    "class Libro:\n",
    "  def __init__(self,titulo, autor, genero, puntuacion):\n",
    "    self.titulo = titulo\n",
    "    self.autor = autor\n",
    "    self.genero = genero\n",
    "    self.puntuacion = puntuacion\n",
    "\n",
    "  def __str__(self):\n",
    "    return f\"Título: {self.titulo}, Autor: {self.autor}, Género: {self.genero}, Puntuación: {self.puntuacion}\"\n",
    "\n",
    "print('''Bienvenido a la Biblioteca Virtual\n",
    "Si desea agregar un libro ingrese \"Libro\"\n",
    "Si desea conocer el listado de un genero ingrese \"Genero\"\n",
    "Si desea que se le recomiende un libro de un genero especifico ingrese \"Recomendación\"''')\n",
    "opcion = ''\n",
    "while opcion.upper() !=\"S\":\n",
    "\n",
    "  if opcion.upper() == \"LIBRO\":\n",
    "    titulo = input('Ingrese el titulo del libro: ').title()\n",
    "\n",
    "    autor = input('Ingrese el autor del libro: ').title()\n",
    "\n",
    "    genero = input('Ingrese el genero del libro: ').title()\n",
    "\n",
    "    puntuacion = ''\n",
    "    puntuacion = puntuacion.replace(',','.')\n",
    "    while not (puntuacion.replace('.','',1).isdigit() and float(puntuacion) >= 0 and float(puntuacion) <= 10):\n",
    "        puntuacion = input('Ingrese una puntuación para el libro (0-10): ')\n",
    "    puntuacion = float(puntuacion)\n",
    "    nuevo_libro = Libro(titulo, autor, genero, puntuacion)\n",
    "    lista_libros.append(nuevo_libro)\n",
    "    print(f\"Se agregó el libro '{nuevo_libro.titulo}' al listado.\")\n",
    "\n",
    "  elif opcion.upper() == \"GENERO\":\n",
    "    genero_busqueda = input('Ingrese el genero que desea buscar: ').title()\n",
    "    libros_encontrados = [libro.titulo for libro in lista_libros if libro.genero == genero_busqueda]\n",
    "    if libros_encontrados:\n",
    "        print(f\"\\nLibros encontrados del género '{genero_busqueda}':\")\n",
    "        for titulo in libros_encontrados:\n",
    "                print(f\"- {titulo}\")\n",
    "    else:\n",
    "        print(f\"No se encontraron libros del género '{genero_busqueda}'.\")\n",
    "\n",
    "\n",
    "  elif opcion.upper() == \"RECOMENDACION\":\n",
    "    genero_recomendacion = input('Ingrese el genero para recomendarle un libro: ').title()\n",
    "    libros_genero = [libro for libro in lista_libros if libro.genero == genero_recomendacion]\n",
    "\n",
    "    if libros_genero:\n",
    "         libro_recomendado = max(libros_genero, key=lambda libro: libro.puntuacion)\n",
    "         print(f\"\\nEl título mejor puntuado del género '{genero_recomendacion}' es: {libro_recomendado.titulo}\")\n",
    "    else:\n",
    "         print(f\"No hay libros disponibles del género '{genero_recomendacion}' para recomendar.\")\n",
    "\n",
    "  else:\n",
    "    print('La palabra ingresada es incorrecta')\n",
    "  opcion = input('Ingrese la palabra para la busqueda o \"S\" para salir :')"
   ]
  }
 ],
 "metadata": {
  "colab": {
   "authorship_tag": "ABX9TyOycFHrHz8uFdOWA3AIL8VD",
   "provenance": []
  },
  "kernelspec": {
   "display_name": "Python 3",
   "name": "python3"
  },
  "language_info": {
   "name": "python"
  }
 },
 "nbformat": 4,
 "nbformat_minor": 0
}
